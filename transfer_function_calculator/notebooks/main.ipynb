{
 "cells": [
  {
   "cell_type": "markdown",
   "metadata": {},
   "source": [
    "# Transfer Function Calculator Notebook"
   ]
  },
  {
   "cell_type": "markdown",
   "metadata": {},
   "source": [
    "To start off, we import sympy and the main function from the project."
   ]
  },
  {
   "cell_type": "code",
   "execution_count": 9,
   "metadata": {},
   "outputs": [],
   "source": [
    "import sympy as sp\n",
    "from transfer_function_calculator.calculator import calculate_transfer_function"
   ]
  },
  {
   "cell_type": "markdown",
   "metadata": {},
   "source": [
    "\n",
    "Just paste your SPICE string copied from your simulating tool between the triple quotes: \"\"\".\n",
    "\n",
    "(Remember to respect the line breaks)\n"
   ]
  },
  {
   "cell_type": "code",
   "execution_count": 10,
   "metadata": {},
   "outputs": [],
   "source": [
    "spice_input = \"\"\"\n",
    "C V_OUT 0 C\n",
    "R V_IN V_RL R\n",
    "L V_RL V_OUT L\n",
    "I 0 V_IN I\n",
    "\"\"\""
   ]
  },
  {
   "cell_type": "markdown",
   "metadata": {},
   "source": [
    "Calculate the Transfer Function:"
   ]
  },
  {
   "cell_type": "code",
   "execution_count": 11,
   "metadata": {},
   "outputs": [
    {
     "name": "stdout",
     "output_type": "stream",
     "text": [
      "\n",
      "Normalized Transfer Function H(s):\n",
      "\n",
      "    ⎛ 1 ⎞     \n",
      "    ⎜───⎟     \n",
      "    ⎝C⋅L⎠     \n",
      "──────────────\n",
      " 2   R⋅s    1 \n",
      "s  + ─── + ───\n",
      "      L    C⋅L\n",
      "\n",
      "\n"
     ]
    }
   ],
   "source": [
    "tf, kcl_equations = calculate_transfer_function(spice_input)\n",
    "\n",
    "print(\"\\nNormalized Transfer Function H(s):\\n\")\n",
    "sp.pprint(tf, use_unicode=True)\n",
    "print(\"\\n\")"
   ]
  },
  {
   "cell_type": "markdown",
   "metadata": {},
   "source": [
    "Simplified Transfer Function:"
   ]
  },
  {
   "cell_type": "code",
   "execution_count": 12,
   "metadata": {},
   "outputs": [
    {
     "name": "stdout",
     "output_type": "stream",
     "text": [
      "\n",
      "Literal Transfer Function H(s):\n",
      "        1         \n",
      "──────────────────\n",
      "     2            \n",
      "C⋅L⋅s  + C⋅R⋅s + 1\n",
      "\n",
      "\n"
     ]
    }
   ],
   "source": [
    "print(\"\\nLiteral Transfer Function H(s):\")\n",
    "sp.pprint(sp.simplify(tf).ratsimp().collect(sp.symbols('s')))\n",
    "print(\"\\n\")"
   ]
  },
  {
   "cell_type": "markdown",
   "metadata": {},
   "source": [
    "Node Equations:"
   ]
  },
  {
   "cell_type": "code",
   "execution_count": 13,
   "metadata": {},
   "outputs": [
    {
     "name": "stdout",
     "output_type": "stream",
     "text": [
      "\n",
      "KCL Equations:\n",
      "\n",
      "Node: V_OUT\n",
      "            V_OUT - V_RL    \n",
      "C⋅V_OUT⋅s + ──────────── = 0\n",
      "                L⋅s         \n",
      "\n",
      "\n",
      "Node: V_IN\n",
      "     V_IN - V_RL    \n",
      "-I + ─────────── = 0\n",
      "          R         \n",
      "\n",
      "\n",
      "Node: V_RL\n",
      "-V_IN + V_RL   -V_OUT + V_RL    \n",
      "──────────── + ───────────── = 0\n",
      "     R              L⋅s         \n",
      "\n"
     ]
    }
   ],
   "source": [
    "print(\"\\nKCL Equations:\")\n",
    "for node, eq in kcl_equations.items():\n",
    "  print(f\"\\nNode: {node}\\n{sp.pretty(eq)}\\n\")"
   ]
  },
  {
   "cell_type": "code",
   "execution_count": null,
   "metadata": {},
   "outputs": [],
   "source": []
  }
 ],
 "metadata": {
  "kernelspec": {
   "display_name": "Python 3 (ipykernel)",
   "language": "python",
   "name": "python3"
  },
  "language_info": {
   "codemirror_mode": {
    "name": "ipython",
    "version": 3
   },
   "file_extension": ".py",
   "mimetype": "text/x-python",
   "name": "python",
   "nbconvert_exporter": "python",
   "pygments_lexer": "ipython3",
   "version": "3.11.2"
  }
 },
 "nbformat": 4,
 "nbformat_minor": 4
}
